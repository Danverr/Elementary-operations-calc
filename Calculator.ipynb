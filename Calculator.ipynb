{
 "cells": [
  {
   "cell_type": "markdown",
   "metadata": {},
   "source": [
    "# Реализация программы\n",
    "*(сюда лучше не смотреть)*"
   ]
  },
  {
   "cell_type": "code",
   "execution_count": 6,
   "metadata": {},
   "outputs": [],
   "source": [
    "import copy\n",
    "from fractions import Fraction\n",
    "from IPython.display import clear_output, display, Math, Latex\n",
    "\n",
    "class Matrix:\n",
    "    \n",
    "    \n",
    "    def __init__(self, matrix):\n",
    "        self.matrix = copy.deepcopy(matrix)\n",
    "        self.m = len(matrix)\n",
    "        self.n = len(matrix[0])\n",
    "\n",
    "    def __getitem__(self, key):\n",
    "        return getattr(self, key)\n",
    "        \n",
    "    def print(self):\n",
    "        output = \"\"\n",
    "\n",
    "        for i in range(m):\n",
    "            for j in range(n):\n",
    "                frac = self.matrix[i][j]\n",
    "\n",
    "                if frac.numerator % frac.denominator == 0:\n",
    "                    output += str(int(frac.numerator / frac.denominator))\n",
    "                else:\n",
    "                    output += r\"\\frac{%s}{%s}\" % (frac.numerator, frac.denominator)\n",
    "\n",
    "\n",
    "                if j != n - 1:\n",
    "                    output += \" & \"\n",
    "                else:\n",
    "                    output += r\" \\\\ \"\n",
    "\n",
    "        display(Math(r\"\\begin{pmatrix}\" + output + r\"\\end{pmatrix}\"))\n",
    "    \n",
    "        \n",
    "    def swapRows(self, x, y):\n",
    "        self.matrix[x], self.matrix[y] = self.matrix[y], self.matrix[x]\n",
    "        \n",
    "        \n",
    "    def mulRow(self, row, mul):\n",
    "        self.matrix[row] = list(map(lambda x: x * mul, self.matrix[row]))\n",
    "        \n",
    "        \n",
    "    def addRowToRow(self, fir, coef, sec):\n",
    "        for i in range(self.n):\n",
    "                self.matrix[sec][i] += coef * self.matrix[fir][i]"
   ]
  },
  {
   "cell_type": "markdown",
   "metadata": {},
   "source": [
    "# Ввод матрицы\n",
    "- Поддерживаются числа и дроби в формате ```-3/11```"
   ]
  },
  {
   "cell_type": "code",
   "execution_count": 12,
   "metadata": {
    "scrolled": true
   },
   "outputs": [
    {
     "name": "stdout",
     "output_type": "stream",
     "text": [
      "You have entered:\n"
     ]
    },
    {
     "data": {
      "text/latex": [
       "$\\displaystyle \\begin{pmatrix}1 & 2 \\\\ 3 & 4 \\\\ \\end{pmatrix}$"
      ],
      "text/plain": [
       "<IPython.core.display.Math object>"
      ]
     },
     "metadata": {},
     "output_type": "display_data"
    }
   ],
   "source": [
    "temp = []\n",
    "\n",
    "m = int(input(\"Number of rows: \"))\n",
    "n = int(input(\"Number of cols: \"))\n",
    "\n",
    "for i in range(m):\n",
    "    temp.append(list(map(Fraction,input(f\"Enter {i + 1} row: \").split())))\n",
    "    \n",
    "matrix = Matrix(temp)\n",
    "history = []\n",
    "\n",
    "clear_output(True)\n",
    "print(\"You have entered:\")\n",
    "matrix.print()"
   ]
  },
  {
   "cell_type": "markdown",
   "metadata": {},
   "source": [
    "# Работа с матрицей\n",
    "- Поддерживаются числа и дроби в формате ```-3/11```\n",
    "- Введите **undo** при выборе действия, чтобы отменить последнее действие. Если все совершенные действия отменены, ничего не произойдет\n",
    "- Введите **exit** в любой момент для завершения работы с матрицей\n",
    "- Введите **back** при вводе аргументов, чтобы вернуться на экран выбора действия"
   ]
  },
  {
   "cell_type": "code",
   "execution_count": 13,
   "metadata": {
    "scrolled": false
   },
   "outputs": [
    {
     "name": "stdout",
     "output_type": "stream",
     "text": [
      "Current matrix:\n"
     ]
    },
    {
     "data": {
      "text/latex": [
       "$\\displaystyle \\begin{pmatrix}1 & 2 \\\\ 3 & 4 \\\\ \\end{pmatrix}$"
      ],
      "text/plain": [
       "<IPython.core.display.Math object>"
      ]
     },
     "metadata": {},
     "output_type": "display_data"
    }
   ],
   "source": [
    "ACTIONS = [\n",
    "    \"str(x) <=> str(y)\",\n",
    "    \"str(x) * a => str(x)\",\n",
    "    \"str(x) * a + str(y) => str(y)\"\n",
    "]\n",
    "\n",
    "ARGS = [\n",
    "    [\"x\", \"y\"],\n",
    "    [\"x\", \"a\"],\n",
    "    [\"x\", \"a\", \"y\"]\n",
    "]\n",
    "\n",
    "action = -1\n",
    "isUndo = False\n",
    "args = []\n",
    "\n",
    "def getArgs(action, rawArgs):    \n",
    "    if action == 0:\n",
    "        args = list(map(lambda x: int(x) - 1, rawArgs))\n",
    "    elif action == 1:\n",
    "        args = [int(rawArgs[0]) - 1, Fraction(rawArgs[1])]\n",
    "    elif action == 2:\n",
    "        args = [            \n",
    "            int(rawArgs[0]) - 1,\n",
    "            Fraction(rawArgs[1]),\n",
    "            int(rawArgs[2]) - 1\n",
    "        ]\n",
    "        \n",
    "    return args\n",
    "\n",
    "while(1):\n",
    "    print(\"Current matrix:\")\n",
    "    matrix.print()\n",
    "    \n",
    "    if action >= 0 and action < len(ACTIONS):        \n",
    "        if isUndo == False:\n",
    "            print(f\"\\nSelected action: {ACTIONS[action]}\")\n",
    "            rawArgs = input(f\"\\nEnter ({', '.join(ARGS[action])}) arguments: \").split()\n",
    "\n",
    "            if rawArgs == [\"exit\"]:\n",
    "                break\n",
    "            elif rawArgs == [\"back\"]:\n",
    "                action = -1\n",
    "            else:\n",
    "                args = getArgs(action, rawArgs)\n",
    "        \n",
    "        if action == 0:\n",
    "            matrix.swapRows(*args)\n",
    "            args[0], args[1] = args[1], args[0]     \n",
    "            \n",
    "        elif action == 1:\n",
    "            matrix.mulRow(*args)\n",
    "            args[1] = 1 / args[1]\n",
    "            \n",
    "        elif action == 2:            \n",
    "            matrix.addRowToRow(*args)\n",
    "            args[1] *= -1\n",
    "        \n",
    "        if isUndo == False:\n",
    "            history.append([action, args])\n",
    "        else:\n",
    "            isUndo = False\n",
    "        \n",
    "        args = []\n",
    "        action = -1        \n",
    "            \n",
    "    else:\n",
    "        print(\"\\nAcceptable actions:\")\n",
    "        \n",
    "        for i in range(len(ACTIONS)):\n",
    "            print(f\"{i + 1}) {ACTIONS[i]}\")\n",
    "        \n",
    "        inp = input(\"\\nEnter action number: \")\n",
    "        \n",
    "        if inp == 'exit':\n",
    "            break\n",
    "        elif inp == 'undo':\n",
    "            if len(history) != 0:\n",
    "                action, args = history.pop()            \n",
    "                isUndo = True\n",
    "        else:         \n",
    "            action = int(inp) - 1           \n",
    "        \n",
    "    print(\"\\n--------------------------\\n\")\n",
    "    clear_output(True)\n",
    "    \n",
    "clear_output(True)\n",
    "print(\"Current matrix:\")\n",
    "matrix.print()"
   ]
  }
 ],
 "metadata": {
  "kernelspec": {
   "display_name": "Python 3",
   "language": "python",
   "name": "python3"
  },
  "language_info": {
   "codemirror_mode": {
    "name": "ipython",
    "version": 3
   },
   "file_extension": ".py",
   "mimetype": "text/x-python",
   "name": "python",
   "nbconvert_exporter": "python",
   "pygments_lexer": "ipython3",
   "version": "3.6.9"
  }
 },
 "nbformat": 4,
 "nbformat_minor": 2
}
