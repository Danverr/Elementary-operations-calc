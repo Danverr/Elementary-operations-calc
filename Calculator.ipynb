{
 "cells": [
  {
   "cell_type": "markdown",
   "metadata": {},
   "source": [
    "# Реализация программы\n",
    "*(сюда лучше не смотреть)*"
   ]
  },
  {
   "cell_type": "code",
   "execution_count": 6,
   "metadata": {},
   "outputs": [],
   "source": [
    "import copy\n",
    "from fractions import Fraction\n",
    "from IPython.display import clear_output, display, Math, Latex\n",
    "\n",
    "class Matrix:\n",
    "    \n",
    "    \n",
    "    def __init__(self, matrix):\n",
    "        self.matrix = copy.deepcopy(matrix)\n",
    "        self.m = len(matrix)\n",
    "        self.n = len(matrix[0])\n",
    "\n",
    "    def __getitem__(self, key):\n",
    "        return getattr(self, key)\n",
    "        \n",
    "    def print(self):\n",
    "        output = \"\"\n",
    "\n",
    "        for i in range(m):\n",
    "            for j in range(n):\n",
    "                frac = self.matrix[i][j]\n",
    "\n",
    "                if frac.numerator % frac.denominator == 0:\n",
    "                    output += str(int(frac.numerator / frac.denominator))\n",
    "                else:\n",
    "                    output += r\"\\frac{%s}{%s}\" % (frac.numerator, frac.denominator)\n",
    "\n",
    "\n",
    "                if j != n - 1:\n",
    "                    output += \" & \"\n",
    "                else:\n",
    "                    output += r\" \\\\ \"\n",
    "\n",
    "        display(Math(r\"\\begin{pmatrix}\" + output + r\"\\end{pmatrix}\"))\n",
    "    \n",
    "        \n",
    "    def swapRows(self, x, y):\n",
    "        self.matrix[x], self.matrix[y] = self.matrix[y], self.matrix[x]\n",
    "        \n",
    "        \n",
    "    def mulRow(self, row, mul):\n",
    "        self.matrix[row] = list(map(lambda x: x * mul, self.matrix[row]))\n",
    "        \n",
    "        \n",
    "    def addRowToRow(self, fir, coef, sec):\n",
    "        for i in range(self.n):\n",
    "                self.matrix[sec][i] += coef * self.matrix[fir][i]"
   ]
  },
  {
   "cell_type": "markdown",
   "metadata": {},
   "source": [
    "# Ввод матрицы\n",
    "- Поддерживаются числа и дроби (например, ```-3/11```)"
   ]
  },
  {
   "cell_type": "code",
   "execution_count": 2,
   "metadata": {
    "scrolled": true
   },
   "outputs": [
    {
     "name": "stdout",
     "output_type": "stream",
     "text": [
      "Number of rows: 1\n"
     ]
    },
    {
     "ename": "KeyboardInterrupt",
     "evalue": "",
     "output_type": "error",
     "traceback": [
      "\u001b[1;31m---------------------------------------------------------------------------\u001b[0m",
      "\u001b[1;31mKeyboardInterrupt\u001b[0m                         Traceback (most recent call last)",
      "\u001b[1;32mB:\\Soft\\Anaconda3\\lib\\site-packages\\ipykernel\\kernelbase.py\u001b[0m in \u001b[0;36m_input_request\u001b[1;34m(self, prompt, ident, parent, password)\u001b[0m\n\u001b[0;32m    884\u001b[0m             \u001b[1;32mtry\u001b[0m\u001b[1;33m:\u001b[0m\u001b[1;33m\u001b[0m\u001b[1;33m\u001b[0m\u001b[0m\n\u001b[1;32m--> 885\u001b[1;33m                 \u001b[0mident\u001b[0m\u001b[1;33m,\u001b[0m \u001b[0mreply\u001b[0m \u001b[1;33m=\u001b[0m \u001b[0mself\u001b[0m\u001b[1;33m.\u001b[0m\u001b[0msession\u001b[0m\u001b[1;33m.\u001b[0m\u001b[0mrecv\u001b[0m\u001b[1;33m(\u001b[0m\u001b[0mself\u001b[0m\u001b[1;33m.\u001b[0m\u001b[0mstdin_socket\u001b[0m\u001b[1;33m,\u001b[0m \u001b[1;36m0\u001b[0m\u001b[1;33m)\u001b[0m\u001b[1;33m\u001b[0m\u001b[1;33m\u001b[0m\u001b[0m\n\u001b[0m\u001b[0;32m    886\u001b[0m             \u001b[1;32mexcept\u001b[0m \u001b[0mException\u001b[0m\u001b[1;33m:\u001b[0m\u001b[1;33m\u001b[0m\u001b[1;33m\u001b[0m\u001b[0m\n",
      "\u001b[1;32mB:\\Soft\\Anaconda3\\lib\\site-packages\\jupyter_client\\session.py\u001b[0m in \u001b[0;36mrecv\u001b[1;34m(self, socket, mode, content, copy)\u001b[0m\n\u001b[0;32m    802\u001b[0m         \u001b[1;32mtry\u001b[0m\u001b[1;33m:\u001b[0m\u001b[1;33m\u001b[0m\u001b[1;33m\u001b[0m\u001b[0m\n\u001b[1;32m--> 803\u001b[1;33m             \u001b[0mmsg_list\u001b[0m \u001b[1;33m=\u001b[0m \u001b[0msocket\u001b[0m\u001b[1;33m.\u001b[0m\u001b[0mrecv_multipart\u001b[0m\u001b[1;33m(\u001b[0m\u001b[0mmode\u001b[0m\u001b[1;33m,\u001b[0m \u001b[0mcopy\u001b[0m\u001b[1;33m=\u001b[0m\u001b[0mcopy\u001b[0m\u001b[1;33m)\u001b[0m\u001b[1;33m\u001b[0m\u001b[1;33m\u001b[0m\u001b[0m\n\u001b[0m\u001b[0;32m    804\u001b[0m         \u001b[1;32mexcept\u001b[0m \u001b[0mzmq\u001b[0m\u001b[1;33m.\u001b[0m\u001b[0mZMQError\u001b[0m \u001b[1;32mas\u001b[0m \u001b[0me\u001b[0m\u001b[1;33m:\u001b[0m\u001b[1;33m\u001b[0m\u001b[1;33m\u001b[0m\u001b[0m\n",
      "\u001b[1;32mB:\\Soft\\Anaconda3\\lib\\site-packages\\zmq\\sugar\\socket.py\u001b[0m in \u001b[0;36mrecv_multipart\u001b[1;34m(self, flags, copy, track)\u001b[0m\n\u001b[0;32m    474\u001b[0m         \"\"\"\n\u001b[1;32m--> 475\u001b[1;33m         \u001b[0mparts\u001b[0m \u001b[1;33m=\u001b[0m \u001b[1;33m[\u001b[0m\u001b[0mself\u001b[0m\u001b[1;33m.\u001b[0m\u001b[0mrecv\u001b[0m\u001b[1;33m(\u001b[0m\u001b[0mflags\u001b[0m\u001b[1;33m,\u001b[0m \u001b[0mcopy\u001b[0m\u001b[1;33m=\u001b[0m\u001b[0mcopy\u001b[0m\u001b[1;33m,\u001b[0m \u001b[0mtrack\u001b[0m\u001b[1;33m=\u001b[0m\u001b[0mtrack\u001b[0m\u001b[1;33m)\u001b[0m\u001b[1;33m]\u001b[0m\u001b[1;33m\u001b[0m\u001b[1;33m\u001b[0m\u001b[0m\n\u001b[0m\u001b[0;32m    476\u001b[0m         \u001b[1;31m# have first part already, only loop while more to receive\u001b[0m\u001b[1;33m\u001b[0m\u001b[1;33m\u001b[0m\u001b[1;33m\u001b[0m\u001b[0m\n",
      "\u001b[1;32mzmq/backend/cython/socket.pyx\u001b[0m in \u001b[0;36mzmq.backend.cython.socket.Socket.recv\u001b[1;34m()\u001b[0m\n",
      "\u001b[1;32mzmq/backend/cython/socket.pyx\u001b[0m in \u001b[0;36mzmq.backend.cython.socket.Socket.recv\u001b[1;34m()\u001b[0m\n",
      "\u001b[1;32mzmq/backend/cython/socket.pyx\u001b[0m in \u001b[0;36mzmq.backend.cython.socket._recv_copy\u001b[1;34m()\u001b[0m\n",
      "\u001b[1;32mB:\\Soft\\Anaconda3\\lib\\site-packages\\zmq\\backend\\cython\\checkrc.pxd\u001b[0m in \u001b[0;36mzmq.backend.cython.checkrc._check_rc\u001b[1;34m()\u001b[0m\n",
      "\u001b[1;31mKeyboardInterrupt\u001b[0m: ",
      "\nDuring handling of the above exception, another exception occurred:\n",
      "\u001b[1;31mKeyboardInterrupt\u001b[0m                         Traceback (most recent call last)",
      "\u001b[1;32m<ipython-input-2-5d0e0bb88fb5>\u001b[0m in \u001b[0;36m<module>\u001b[1;34m\u001b[0m\n\u001b[0;32m      1\u001b[0m \u001b[0mtemp\u001b[0m \u001b[1;33m=\u001b[0m \u001b[1;33m[\u001b[0m\u001b[1;33m]\u001b[0m\u001b[1;33m\u001b[0m\u001b[1;33m\u001b[0m\u001b[0m\n\u001b[0;32m      2\u001b[0m \u001b[1;33m\u001b[0m\u001b[0m\n\u001b[1;32m----> 3\u001b[1;33m \u001b[0mm\u001b[0m \u001b[1;33m=\u001b[0m \u001b[0mint\u001b[0m\u001b[1;33m(\u001b[0m\u001b[0minput\u001b[0m\u001b[1;33m(\u001b[0m\u001b[1;34m\"Number of rows: \"\u001b[0m\u001b[1;33m)\u001b[0m\u001b[1;33m)\u001b[0m\u001b[1;33m\u001b[0m\u001b[1;33m\u001b[0m\u001b[0m\n\u001b[0m\u001b[0;32m      4\u001b[0m \u001b[0mn\u001b[0m \u001b[1;33m=\u001b[0m \u001b[0mint\u001b[0m\u001b[1;33m(\u001b[0m\u001b[0minput\u001b[0m\u001b[1;33m(\u001b[0m\u001b[1;34m\"Number of cols: \"\u001b[0m\u001b[1;33m)\u001b[0m\u001b[1;33m)\u001b[0m\u001b[1;33m\u001b[0m\u001b[1;33m\u001b[0m\u001b[0m\n\u001b[0;32m      5\u001b[0m \u001b[1;33m\u001b[0m\u001b[0m\n",
      "\u001b[1;32mB:\\Soft\\Anaconda3\\lib\\site-packages\\ipykernel\\kernelbase.py\u001b[0m in \u001b[0;36mraw_input\u001b[1;34m(self, prompt)\u001b[0m\n\u001b[0;32m    858\u001b[0m             \u001b[0mself\u001b[0m\u001b[1;33m.\u001b[0m\u001b[0m_parent_ident\u001b[0m\u001b[1;33m,\u001b[0m\u001b[1;33m\u001b[0m\u001b[1;33m\u001b[0m\u001b[0m\n\u001b[0;32m    859\u001b[0m             \u001b[0mself\u001b[0m\u001b[1;33m.\u001b[0m\u001b[0m_parent_header\u001b[0m\u001b[1;33m,\u001b[0m\u001b[1;33m\u001b[0m\u001b[1;33m\u001b[0m\u001b[0m\n\u001b[1;32m--> 860\u001b[1;33m             \u001b[0mpassword\u001b[0m\u001b[1;33m=\u001b[0m\u001b[1;32mFalse\u001b[0m\u001b[1;33m,\u001b[0m\u001b[1;33m\u001b[0m\u001b[1;33m\u001b[0m\u001b[0m\n\u001b[0m\u001b[0;32m    861\u001b[0m         )\n\u001b[0;32m    862\u001b[0m \u001b[1;33m\u001b[0m\u001b[0m\n",
      "\u001b[1;32mB:\\Soft\\Anaconda3\\lib\\site-packages\\ipykernel\\kernelbase.py\u001b[0m in \u001b[0;36m_input_request\u001b[1;34m(self, prompt, ident, parent, password)\u001b[0m\n\u001b[0;32m    888\u001b[0m             \u001b[1;32mexcept\u001b[0m \u001b[0mKeyboardInterrupt\u001b[0m\u001b[1;33m:\u001b[0m\u001b[1;33m\u001b[0m\u001b[1;33m\u001b[0m\u001b[0m\n\u001b[0;32m    889\u001b[0m                 \u001b[1;31m# re-raise KeyboardInterrupt, to truncate traceback\u001b[0m\u001b[1;33m\u001b[0m\u001b[1;33m\u001b[0m\u001b[1;33m\u001b[0m\u001b[0m\n\u001b[1;32m--> 890\u001b[1;33m                 \u001b[1;32mraise\u001b[0m \u001b[0mKeyboardInterrupt\u001b[0m\u001b[1;33m\u001b[0m\u001b[1;33m\u001b[0m\u001b[0m\n\u001b[0m\u001b[0;32m    891\u001b[0m             \u001b[1;32melse\u001b[0m\u001b[1;33m:\u001b[0m\u001b[1;33m\u001b[0m\u001b[1;33m\u001b[0m\u001b[0m\n\u001b[0;32m    892\u001b[0m                 \u001b[1;32mbreak\u001b[0m\u001b[1;33m\u001b[0m\u001b[1;33m\u001b[0m\u001b[0m\n",
      "\u001b[1;31mKeyboardInterrupt\u001b[0m: "
     ]
    }
   ],
   "source": [
    "temp = []\n",
    "\n",
    "m = int(input(\"Number of rows: \"))\n",
    "n = int(input(\"Number of cols: \"))\n",
    "\n",
    "for i in range(m):\n",
    "    temp.append(list(map(Fraction,input(f\"Enter {i + 1} row: \").split())))\n",
    "    \n",
    "matrix = Matrix(temp)\n",
    "history = []\n",
    "\n",
    "clear_output(True)\n",
    "print(\"You have entered:\")\n",
    "matrix.print()"
   ]
  },
  {
   "cell_type": "code",
   "execution_count": 7,
   "metadata": {},
   "outputs": [],
   "source": [
    "temp = [\n",
    "    [8, 0, -8, -1, -2, -3],\n",
    "    [7, -3, 7, -10, -9, -7],\n",
    "    [-5, -1, 2, 4, 2, -3],\n",
    "]\n",
    "\n",
    "m = len(temp)\n",
    "n = len(temp[0])\n",
    "\n",
    "matrix = Matrix(temp)\n",
    "history = []"
   ]
  },
  {
   "cell_type": "markdown",
   "metadata": {},
   "source": [
    "# Работа с матрицей\n",
    "- Поддерживаются числа и дроби (например, ```-3/11```)\n",
    "- Введите **undo** при выборе действия, чтобы отменить последнее действие. Если все совершенные действия отменены, ничего не произойдет\n",
    "- Введите **exit** в любой момент для завершения работы с матрицей\n",
    "- Введите **back** при вводе аргументов, чтобы вернуться на экран выбора действия"
   ]
  },
  {
   "cell_type": "code",
   "execution_count": 11,
   "metadata": {
    "scrolled": false
   },
   "outputs": [
    {
     "name": "stdout",
     "output_type": "stream",
     "text": [
      "Current matrix:\n"
     ]
    },
    {
     "data": {
      "text/latex": [
       "$\\displaystyle \\begin{pmatrix}1 & 0 & 0 & \\frac{-177}{184} & \\frac{-61}{92} & \\frac{13}{184} \\\\ 0 & 1 & 0 & \\frac{-159}{184} & \\frac{45}{92} & \\frac{651}{184} \\\\ 0 & 0 & 1 & \\frac{-77}{92} & \\frac{-19}{46} & \\frac{41}{92} \\\\ \\end{pmatrix}$"
      ],
      "text/plain": [
       "<IPython.core.display.Math object>"
      ]
     },
     "metadata": {},
     "output_type": "display_data"
    }
   ],
   "source": [
    "ACTIONS = [\n",
    "    \"str(x) <=> str(y)\",\n",
    "    \"str(x) * a => str(x)\",\n",
    "    \"str(x) * a + str(y) => str(y)\"\n",
    "]\n",
    "\n",
    "ARGS = [\n",
    "    [\"x\", \"y\"],\n",
    "    [\"x\", \"a\"],\n",
    "    [\"x\", \"a\", \"y\"]\n",
    "]\n",
    "\n",
    "action = -1\n",
    "isUndo = False\n",
    "args = []\n",
    "\n",
    "def getArgs(action, rawArgs):    \n",
    "    if action == 0:\n",
    "        args = list(map(lambda x: int(x) - 1, rawArgs))\n",
    "    elif action == 1:\n",
    "        args = [int(rawArgs[0]) - 1, Fraction(rawArgs[1])]\n",
    "    elif action == 2:\n",
    "        args = [            \n",
    "            int(rawArgs[0]) - 1,\n",
    "            Fraction(rawArgs[1]),\n",
    "            int(rawArgs[2]) - 1\n",
    "        ]\n",
    "        \n",
    "    return args\n",
    "\n",
    "while(1):\n",
    "    print(\"Current matrix:\")\n",
    "    matrix.print()\n",
    "    \n",
    "    if action >= 0 and action < len(ACTIONS):        \n",
    "        if isUndo == False:\n",
    "            print(f\"\\nSelected action: {ACTIONS[action]}\")\n",
    "            rawArgs = input(f\"\\nEnter ({', '.join(ARGS[action])}) arguments: \").split()\n",
    "\n",
    "            if rawArgs == [\"exit\"]:\n",
    "                break\n",
    "            elif rawArgs == [\"back\"]:\n",
    "                action = -1\n",
    "            else:\n",
    "                args = getArgs(action, rawArgs)\n",
    "        \n",
    "        if action == 0:\n",
    "            matrix.swapRows(*args)\n",
    "            args[0], args[1] = args[1], args[0]     \n",
    "            \n",
    "        elif action == 1:\n",
    "            matrix.mulRow(*args)\n",
    "            args[1] = 1 / args[1]\n",
    "            \n",
    "        elif action == 2:            \n",
    "            matrix.addRowToRow(*args)\n",
    "            args[1] *= -1\n",
    "        \n",
    "        if isUndo == False:\n",
    "            history.append([action, args])\n",
    "        else:\n",
    "            isUndo = False\n",
    "        \n",
    "        args = []\n",
    "        action = -1        \n",
    "            \n",
    "    else:\n",
    "        print(\"\\nAcceptable actions:\")\n",
    "        \n",
    "        for i in range(len(ACTIONS)):\n",
    "            print(f\"{i + 1}) {ACTIONS[i]}\")\n",
    "        \n",
    "        inp = input(\"\\nEnter action number: \")\n",
    "        \n",
    "        if inp == 'exit':\n",
    "            break\n",
    "        elif inp == 'undo':\n",
    "            if len(history) != 0:\n",
    "                action, args = history.pop()            \n",
    "                isUndo = True\n",
    "        else:         \n",
    "            action = int(inp) - 1           \n",
    "        \n",
    "    print(\"\\n--------------------------\\n\")\n",
    "    clear_output(True)\n",
    "    \n",
    "clear_output(True)\n",
    "print(\"Current matrix:\")\n",
    "matrix.print()"
   ]
  }
 ],
 "metadata": {
  "kernelspec": {
   "display_name": "Python 3",
   "language": "python",
   "name": "python3"
  },
  "language_info": {
   "codemirror_mode": {
    "name": "ipython",
    "version": 3
   },
   "file_extension": ".py",
   "mimetype": "text/x-python",
   "name": "python",
   "nbconvert_exporter": "python",
   "pygments_lexer": "ipython3",
   "version": "3.6.9"
  }
 },
 "nbformat": 4,
 "nbformat_minor": 2
}
